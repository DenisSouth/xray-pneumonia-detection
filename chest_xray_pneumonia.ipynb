{
 "cells": [
  {
   "cell_type": "code",
   "execution_count": 0,
   "metadata": {
    "id": "otF_7yGxTNGj",
    "colab_type": "code",
    "colab": {}
   },
   "outputs": [],
   "source": [
    "\n",
    "import pandas as pd\n",
    "import numpy as np\n",
    "import os\n",
    "import keras\n",
    "import matplotlib.pyplot as plt\n",
    "from keras.layers import Dense,GlobalAveragePooling2D\n",
    "from keras.applications import MobileNet\n",
    "from keras.preprocessing import image\n",
    "from keras.applications.mobilenet import preprocess_input\n",
    "from keras.preprocessing.image import ImageDataGenerator\n",
    "from keras.models import Model\n",
    "from keras.optimizers import Adam\n",
    "from google.colab import files"
   ]
  },
  {
   "cell_type": "markdown",
   "metadata": {
    "id": "LRRQi1ODUGN_",
    "colab_type": "text"
   },
   "source": [
    "# Upload dataset\n",
    "\n",
    "- sign up for a Kaggle account at https://www.kaggle.com. \n",
    "-  go to the 'Account' tab of your user profile https://www.kaggle.com/<username>/accoun\n",
    "- select 'Create API Token'.\n",
    "- This will trigger the download of kaggle.json, a file containing your API credentials\n",
    "  "
   ]
  },
  {
   "cell_type": "code",
   "execution_count": 0,
   "metadata": {
    "id": "335AjzlATjD4",
    "colab_type": "code",
    "colab": {}
   },
   "outputs": [],
   "source": [
    "!pip install -U -q kaggle\n",
    "!mkdir  /root/.kaggle\n",
    "\n",
    "files.upload()\n",
    "!cp kaggle.json /root/.kaggle\n",
    "!kaggle datasets download -d paultimothymooney/chest-xray-pneumonia\n"
   ]
  },
  {
   "cell_type": "markdown",
   "metadata": {
    "id": "lEseEOOhVYUn",
    "colab_type": "text"
   },
   "source": [
    "# Prepare dataset"
   ]
  },
  {
   "cell_type": "code",
   "execution_count": 0,
   "metadata": {
    "id": "Uk0XXXXKU5R2",
    "colab_type": "code",
    "colab": {}
   },
   "outputs": [],
   "source": [
    "!apt install pv\n",
    "!unzip -o /content/chest-xray-pneumonia.zip  | pv -l >/dev/null\n",
    "os.remove('chest-xray-pneumonia.zip')\n",
    "!unzip -o /content/chest_xray.zip  | pv -l >/dev/null\n",
    "os.remove('chest_xray.zip')"
   ]
  },
  {
   "cell_type": "markdown",
   "metadata": {
    "id": "2hliC8VOVo0v",
    "colab_type": "text"
   },
   "source": [
    "# Make model"
   ]
  },
  {
   "cell_type": "code",
   "execution_count": 10,
   "metadata": {
    "id": "ie0b7_hgU84y",
    "colab_type": "code",
    "colab": {
     "base_uri": "https://localhost:8080/",
     "height": 125.0
    },
    "outputId": "8c721fe3-17a3-4570-bf56-3839c71af797",
    "collapsed": false
   },
   "outputs": [
    {
     "name": "stdout",
     "output_type": "stream",
     "text": [
      "WARNING:tensorflow:From /usr/local/lib/python3.6/dist-packages/tensorflow/python/framework/op_def_library.py:263: colocate_with (from tensorflow.python.framework.ops) is deprecated and will be removed in a future version.\n",
      "Instructions for updating:\n",
      "Colocations handled automatically by placer.\n"
     ]
    },
    {
     "name": "stderr",
     "output_type": "stream",
     "text": [
      "/usr/local/lib/python3.6/dist-packages/keras_applications/mobilenet.py:208: UserWarning: MobileNet shape is undefined. Weights for input shape (224, 224) will be loaded.\n",
      "  warnings.warn('MobileNet shape is undefined.'\n"
     ]
    }
   ],
   "source": [
    "base_model=MobileNet(weights='imagenet',include_top=False) #imports the mobilenet model and discards the last 1000 neuron layer.\n",
    "\n",
    "x=base_model.output\n",
    "x=GlobalAveragePooling2D()(x)\n",
    "x=Dense(1024,activation='relu')(x) #we add dense layers so that the model can learn more complex functions and classify for better results.\n",
    "x=Dense(1024,activation='relu')(x) #dense layer 2\n",
    "x=Dense(512,activation='relu')(x) #dense layer 3\n",
    "preds=Dense(2,activation='softmax')(x) #final layer with softmax activation"
   ]
  },
  {
   "cell_type": "code",
   "execution_count": 0,
   "metadata": {
    "id": "CQ8Nq9ThTwlo",
    "colab_type": "code",
    "colab": {}
   },
   "outputs": [],
   "source": [
    "model=Model(inputs=base_model.input,outputs=preds)\n",
    "\n",
    "for layer in model.layers[:20]:\n",
    "    layer.trainable=False\n",
    "for layer in model.layers[20:]:\n",
    "    layer.trainable=True\n",
    "    "
   ]
  },
  {
   "cell_type": "markdown",
   "metadata": {
    "id": "snF7rKGKV4Ew",
    "colab_type": "text"
   },
   "source": [
    "# Train model"
   ]
  },
  {
   "cell_type": "code",
   "execution_count": 13,
   "metadata": {
    "id": "iy1aiHEFUv9v",
    "colab_type": "code",
    "colab": {
     "base_uri": "https://localhost:8080/",
     "height": 303.0
    },
    "outputId": "3d5e72fc-09d4-4ab0-eb20-b727ad75169a",
    "collapsed": false
   },
   "outputs": [
    {
     "name": "stdout",
     "output_type": "stream",
     "text": [
      "Found 5216 images belonging to 2 classes.\n",
      "WARNING:tensorflow:From /usr/local/lib/python3.6/dist-packages/tensorflow/python/ops/math_ops.py:3066: to_int32 (from tensorflow.python.ops.math_ops) is deprecated and will be removed in a future version.\n",
      "Instructions for updating:\n",
      "Use tf.cast instead.\n",
      "Epoch 1/5\n",
      "163/163 [==============================] - 78s 478ms/step - loss: 0.1360 - acc: 0.9546\n",
      "Epoch 2/5\n",
      "163/163 [==============================] - 76s 468ms/step - loss: 0.0435 - acc: 0.9833\n",
      "Epoch 3/5\n",
      "163/163 [==============================] - 75s 461ms/step - loss: 0.0360 - acc: 0.9875\n",
      "Epoch 4/5\n",
      "163/163 [==============================] - 75s 460ms/step - loss: 0.0454 - acc: 0.9872\n",
      "Epoch 5/5\n",
      "163/163 [==============================] - 75s 459ms/step - loss: 0.0339 - acc: 0.9898\n"
     ]
    },
    {
     "data": {
      "text/plain": [
       "<keras.callbacks.History at 0x7f9870635630>"
      ]
     },
     "execution_count": 13,
     "metadata": {
      "tags": []
     },
     "output_type": "execute_result"
    }
   ],
   "source": [
    "train_datagen=ImageDataGenerator(preprocessing_function=preprocess_input) #included in our dependencies\n",
    "\n",
    "train_generator=train_datagen.flow_from_directory('/content/chest_xray/train/',\n",
    "                                                  target_size=(224,224),\n",
    "                                                  color_mode='rgb',\n",
    "                                                  batch_size=32,\n",
    "                                                  class_mode='categorical', shuffle=True)\n",
    "\n",
    "\n",
    "model.compile(optimizer='Adam',loss='categorical_crossentropy',metrics=['accuracy'])\n",
    "# Adam optimizer\n",
    "# loss function will be categorical cross entropy\n",
    "# evaluation metric will be accuracy\n",
    "\n",
    "step_size_train=train_generator.n//train_generator.batch_size\n",
    "model.fit_generator(generator=train_generator,\n",
    "                   steps_per_epoch=step_size_train,\n",
    "                   epochs=5)"
   ]
  },
  {
   "cell_type": "markdown",
   "metadata": {
    "id": "3K4-_KicV8nO",
    "colab_type": "text"
   },
   "source": [
    "#Save the weights"
   ]
  },
  {
   "cell_type": "code",
   "execution_count": 14,
   "metadata": {
    "id": "eGB5po5PV1Yi",
    "colab_type": "code",
    "colab": {
     "base_uri": "https://localhost:8080/",
     "height": 34.0
    },
    "outputId": "27f9837f-a57c-4e6b-e02e-595c771649ec"
   },
   "outputs": [
    {
     "name": "stdout",
     "output_type": "stream",
     "text": [
      "  adding: chest-xray-pneumonia.h5 (deflated 13%)\n"
     ]
    }
   ],
   "source": [
    "model.save('chest-xray-pneumonia.h5')    \n",
    "!zip -r model.zip 'chest-xray-pneumonia.h5'"
   ]
  },
  {
   "cell_type": "markdown",
   "metadata": {
    "id": "ftUogrLxWJpH",
    "colab_type": "text"
   },
   "source": [
    "# Implement"
   ]
  },
  {
   "cell_type": "code",
   "execution_count": 0,
   "metadata": {
    "id": "-vaG77zrWIj6",
    "colab_type": "code",
    "colab": {}
   },
   "outputs": [],
   "source": [
    "from keras.models import load_model\n",
    "new_model = load_model(\"/content/chest-xray-pneumonia.h5\")\n",
    "\n",
    "def get_rez(pic):\n",
    "  img = image.load_img(pic, target_size=(224,224))\n",
    "  x = image.img_to_array(img)\n",
    "  x = np.expand_dims(x, axis=0)\n",
    "  x = preprocess_input(x)\n",
    "  p_good,p_ill = np.around(new_model.predict(x), decimals=2)[0]\n",
    "  return{'p_good':p_good,'p_ill':p_ill}"
   ]
  },
  {
   "cell_type": "code",
   "execution_count": 24,
   "metadata": {
    "id": "p5w1A1Y6X2EJ",
    "colab_type": "code",
    "colab": {
     "base_uri": "https://localhost:8080/",
     "height": 52.0
    },
    "outputId": "368eaea9-889e-42df-dfac-0c6171c66626"
   },
   "outputs": [
    {
     "name": "stdout",
     "output_type": "stream",
     "text": [
      "{'p_good': 0.0, 'p_ill': 1.0}\n",
      "{'p_good': 0.06, 'p_ill': 0.94}\n"
     ]
    }
   ],
   "source": [
    "ill_path = \"/content/chest_xray/train/PNEUMONIA/\" \n",
    "good_path = \"/content/chest_xray/train/NORMAL/\" \n",
    "\n",
    "ill_pic = ill_path + os.listdir(ill_path)[0]\n",
    "good_pic = good_path + os.listdir(good_path)[5]\n",
    "\n",
    "print(get_rez(ill_pic))\n",
    "print(get_rez(good_pic))\n",
    "\n"
   ]
  },
  {
   "cell_type": "code",
   "execution_count": 0,
   "metadata": {
    "id": "Zy6k1K1cXati",
    "colab_type": "code",
    "colab": {}
   },
   "outputs": [],
   "source": [
    ""
   ]
  }
 ],
 "metadata": {
  "colab": {
   "name": "chest-xray-pneumonia.ipynb",
   "version": "0.3.2",
   "provenance": [],
   "collapsed_sections": [],
   "toc_visible": true
  },
  "kernelspec": {
   "name": "python3",
   "display_name": "Python 3"
  },
  "accelerator": "GPU"
 },
 "nbformat": 4,
 "nbformat_minor": 0
}
